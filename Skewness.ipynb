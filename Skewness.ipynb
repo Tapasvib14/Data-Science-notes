{
 "cells": [
  {
   "cell_type": "code",
   "execution_count": 1,
   "id": "218adf84-b574-4ac7-bf58-a98fa3dabea8",
   "metadata": {},
   "outputs": [
    {
     "name": "stdout",
     "output_type": "stream",
     "text": [
      "Skewness: 0.5090421996918334\n"
     ]
    }
   ],
   "source": [
    "import pandas as pd\n",
    "import numpy as np\n",
    "\n",
    "# Example dataset\n",
    "data = {\n",
    "    'Values': [10, 15, 20, 25, 30, 35, 40, 45, 50, 60, 70, 80, 90, 100]\n",
    "}\n",
    "\n",
    "# Create a DataFrame\n",
    "df = pd.DataFrame(data)\n",
    "\n",
    "# Calculate skewness\n",
    "skewness = df['Values'].skew()\n",
    "\n",
    "print(\"Skewness:\", skewness)\n"
   ]
  },
  {
   "cell_type": "code",
   "execution_count": null,
   "id": "d718380d-81c8-440e-a3c1-b1883a224938",
   "metadata": {},
   "outputs": [],
   "source": []
  }
 ],
 "metadata": {
  "kernelspec": {
   "display_name": "Python 3 (ipykernel)",
   "language": "python",
   "name": "python3"
  },
  "language_info": {
   "codemirror_mode": {
    "name": "ipython",
    "version": 3
   },
   "file_extension": ".py",
   "mimetype": "text/x-python",
   "name": "python",
   "nbconvert_exporter": "python",
   "pygments_lexer": "ipython3",
   "version": "3.8.10"
  }
 },
 "nbformat": 4,
 "nbformat_minor": 5
}
