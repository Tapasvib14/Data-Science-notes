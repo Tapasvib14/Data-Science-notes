{
 "cells": [
  {
   "cell_type": "code",
   "execution_count": 1,
   "id": "260a1bc7-a2ea-4f59-bcad-193f0dc77fa6",
   "metadata": {},
   "outputs": [],
   "source": [
    "import pandas as pd\n",
    "\n",
    "# Example dataset\n",
    "data = {\n",
    "    'Study Hours': [4, 6, 5, 3, 7, 8, 5, 6, 4, 5],\n",
    "    'Exam Scores': [85, 90, 88, 80, 92, 94, 87, 91, 84, 89]\n",
    "}\n",
    "\n",
    "# Create a DataFrame\n",
    "df = pd.DataFrame(data)\n"
   ]
  },
  {
   "cell_type": "code",
   "execution_count": 2,
   "id": "467608a8-a035-4726-8b94-9b1c32755a1c",
   "metadata": {},
   "outputs": [
    {
     "name": "stdout",
     "output_type": "stream",
     "text": [
      "Correlation coefficient: 0.9643472179828324\n"
     ]
    }
   ],
   "source": [
    "# Calculate correlation coefficient\n",
    "correlation = df['Study Hours'].corr(df['Exam Scores'])\n",
    "#calculates the correlation coefficient between the 'Study Hours' and 'Exam Scores' columns in the DataFrame df using the corr() method.\n",
    "print(\"Correlation coefficient:\", correlation)\n"
   ]
  },
  {
   "cell_type": "code",
   "execution_count": null,
   "id": "91c2c25f-dda5-4967-bad0-c204b385e7d5",
   "metadata": {},
   "outputs": [],
   "source": []
  }
 ],
 "metadata": {
  "kernelspec": {
   "display_name": "Python 3 (ipykernel)",
   "language": "python",
   "name": "python3"
  },
  "language_info": {
   "codemirror_mode": {
    "name": "ipython",
    "version": 3
   },
   "file_extension": ".py",
   "mimetype": "text/x-python",
   "name": "python",
   "nbconvert_exporter": "python",
   "pygments_lexer": "ipython3",
   "version": "3.8.10"
  }
 },
 "nbformat": 4,
 "nbformat_minor": 5
}
