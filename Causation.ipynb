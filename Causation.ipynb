{
 "cells": [
  {
   "cell_type": "code",
   "execution_count": 1,
   "id": "0471d5ac-c65b-4751-9979-734995d24e46",
   "metadata": {},
   "outputs": [],
   "source": [
    "import numpy as np\n",
    "import pandas as pd\n"
   ]
  },
  {
   "cell_type": "code",
   "execution_count": 2,
   "id": "473153ac-b869-41b3-a2ef-5f2349c78ec0",
   "metadata": {},
   "outputs": [],
   "source": [
    "np.random.seed(42)\n",
    "#This line sets the random seed for NumPy's random number generator. Setting a seed ensures that the random numbers generated will be the same every time the code is run. \n",
    "#This is useful for reproducibility, as it allows others to reproduce the same random numbers.\n",
    "n_samples = 1000\n",
    "#This line defines the number of samples (data points) that will be generated for the synthetic dataset. In this case, we're generating 1000 samples.\n",
    "study_hours = np.random.uniform(0, 10, n_samples)\n",
    "#This line generates random values for the 'study_hours' variable using NumPy's random.uniform() function. \n",
    "# It generates n_samples random numbers from a uniform distribution between 0 (inclusive) and 10 (exclusive). \n",
    "# This simulates the number of hours a student might study for an exam.\n",
    "noise = np.random.normal(0, 5, n_samples)\n",
    "exam_scores = 2*study_hours+30+noise\n",
    "\n",
    "data = pd.DataFrame({'Study hours': study_hours, 'Exam scores': exam_scores})"
   ]
  },
  {
   "cell_type": "code",
   "execution_count": 15,
   "id": "279d7259-24fc-4e7a-a760-503c6589fdee",
   "metadata": {},
   "outputs": [
    {
     "name": "stdout",
     "output_type": "stream",
     "text": [
      "[('Study hours', 'Exam scores')]\n"
     ]
    }
   ],
   "source": [
    "from causalnex.structure import structuremodel\n",
    "from causalnex.structure.notears import from_pandas\n",
    "sm = StructureModel()\n",
    "sm.add_edges_from([('study hours', 'Exam scores')])\n",
    "sm = from_pandas(data, max_iter=1000, w_threshold=0.8, tabu_edges=[])\n",
    "print(sm.edges)"
   ]
  },
  {
   "cell_type": "code",
   "execution_count": null,
   "id": "2f549d18-fd8f-4bad-9167-c6c633b38e43",
   "metadata": {},
   "outputs": [],
   "source": []
  }
 ],
 "metadata": {
  "kernelspec": {
   "display_name": "Python 3 (ipykernel)",
   "language": "python",
   "name": "python3"
  },
  "language_info": {
   "codemirror_mode": {
    "name": "ipython",
    "version": 3
   },
   "file_extension": ".py",
   "mimetype": "text/x-python",
   "name": "python",
   "nbconvert_exporter": "python",
   "pygments_lexer": "ipython3",
   "version": "3.8.10"
  }
 },
 "nbformat": 4,
 "nbformat_minor": 5
}
